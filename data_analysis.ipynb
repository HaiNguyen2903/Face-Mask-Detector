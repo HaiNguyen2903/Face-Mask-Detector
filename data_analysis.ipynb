{
 "cells": [
  {
   "cell_type": "code",
   "execution_count": 115,
   "metadata": {},
   "outputs": [],
   "source": [
    "import os\n",
    "import torch\n",
    "import pandas as pd\n",
    "from pathlib import Path\n",
    "import json\n",
    "import xml.etree.ElementTree as ET\n",
    "import matplotlib.pyplot as plt\n",
    "%matplotlib inline"
   ]
  },
  {
   "cell_type": "code",
   "execution_count": 116,
   "metadata": {},
   "outputs": [],
   "source": [
    "# train_path = './datasets/train/'\n",
    "# test_path = './datasets/val/'\n",
    "\n",
    "# TRAIN_IMAGES = []\n",
    "# TRAIN_OBJECTS = []\n",
    "# TEST_IMAGES = []\n",
    "# TEST_OBJECTS = []\n",
    "\n",
    "# train_files = Path(train_path)\n",
    "# test_files = Path(test_path)\n",
    "\n",
    "# for file in train_files.iterdir():\n",
    "#     name = file.name\n",
    "#     if name[-3:] == 'xml':\n",
    "#         TRAIN_OBJECTS.append(os.path.join(train_path, name))\n",
    "#     else:\n",
    "#         TRAIN_IMAGES.append(os.path.join(train_path, name))\n",
    "        \n",
    "# for file in test_files.iterdir():\n",
    "#     name = file.name\n",
    "#     if name[-3:] == 'xml':\n",
    "#         TEST_OBJECTS.append(os.path.join(test_path, name))\n",
    "#     else:\n",
    "#         TEST_IMAGES.append(os.path.join(test_path, name))\n",
    "\n",
    "# print(len(TRAIN_IMAGES), len(TRAIN_OBJECTS))\n",
    "# print(len(TEST_IMAGES), len(TEST_OBJECTS))"
   ]
  },
  {
   "cell_type": "code",
   "execution_count": 188,
   "metadata": {
    "tags": []
   },
   "outputs": [
    {
     "output_type": "stream",
     "name": "stdout",
     "text": [
      "6132 6132\n1839 1839\n6132\n1839\n"
     ]
    }
   ],
   "source": [
    "from"
   ]
  },
  {
   "cell_type": "code",
   "execution_count": 189,
   "metadata": {},
   "outputs": [],
   "source": [
    "def create_jsons(output_folder):\n",
    "    with open(os.path.join(output_folder, 'TRAIN_IMAGES.json'), 'w') as j:\n",
    "        json.dump(train_images, j)\n",
    "    with open(os.path.join(output_folder, 'TEST_IMAGES.json'), 'w') as j:\n",
    "        json.dump(test_images, j)\n",
    "\n",
    "    with open(os.path.join(output_folder, 'TRAIN_OBJECTS'), 'w') as j:\n",
    "        json.dump(train_objects_info, j)\n",
    "    with open(os.path.join(output_folder, 'TEST_OBJECTS'), 'w') as j:\n",
    "        json.dump(test_objects_info, j)\n",
    "\n",
    "output_folder = './datasets/'\n",
    "create_jsons(output_folder)"
   ]
  },
  {
   "cell_type": "code",
   "execution_count": 31,
   "metadata": {},
   "outputs": [
    {
     "output_type": "stream",
     "name": "stdout",
     "text": [
      "['./Datasets/FaceMask Dataset/val/FKEF/fef']\n"
     ]
    }
   ],
   "source": [
    "from utils import *\n",
    "test = list()\n",
    "folder = './Datasets/FaceMask Dataset/val/'\n",
    "test.append(os.path.join(folder, 'FKEF/', 'fef'))\n",
    "print(test)"
   ]
  },
  {
   "cell_type": "code",
   "execution_count": 32,
   "metadata": {
    "tags": []
   },
   "outputs": [
    {
     "output_type": "execute_result",
     "data": {
      "text/plain": [
       "'./Datasets/FaceMask Dataset/train/222/xmlfef'"
      ]
     },
     "metadata": {},
     "execution_count": 32
    }
   ],
   "source": [
    "from utils import *\n",
    "path = os.path.join(TRAIN_PATH, '222/xml' + 'fef')\n",
    "path"
   ]
  },
  {
   "cell_type": "code",
   "execution_count": 41,
   "metadata": {},
   "outputs": [
    {
     "output_type": "execute_result",
     "data": {
      "text/plain": [
       "1"
      ]
     },
     "metadata": {},
     "execution_count": 41
    }
   ],
   "source": [
    "dict = {\n",
    "    1: 'a',\n",
    "    2: 'b'\n",
    "}\n",
    "ls = [dict]\n",
    "len(ls)"
   ]
  }
 ],
 "metadata": {
  "kernelspec": {
   "name": "python385jvsc74a57bd046a906b43501a4f2df75356369c26437d7625a2c32efbd334eebf02583e55307",
   "display_name": "Python 3.8.5 64-bit ('base': conda)"
  },
  "language_info": {
   "codemirror_mode": {
    "name": "ipython",
    "version": 3
   },
   "file_extension": ".py",
   "mimetype": "text/x-python",
   "name": "python",
   "nbconvert_exporter": "python",
   "pygments_lexer": "ipython3",
   "version": "3.8.5"
  }
 },
 "nbformat": 4,
 "nbformat_minor": 4
}